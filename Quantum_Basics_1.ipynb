{
 "cells": [
  {
   "cell_type": "markdown",
   "id": "f801e5cf-20df-4c0f-ae95-4f5055227685",
   "metadata": {},
   "source": [
    "Aer: Aer is a high-performance simulator framework provided by Qiskit. \n",
    "\n",
    "It contains optimized simulators for different types of quantum computations, including statevector simulations.\n",
    "\n",
    "Aer simulators are useful for testing and debugging quantum circuits before running them on real quantum hardware."
   ]
  },
  {
   "cell_type": "markdown",
   "id": "3aa776e5-fa91-40a0-aaa9-71e9b7ff0d1e",
   "metadata": {},
   "source": [
    "transpile: Transpiling is the process of converting a high-level quantum circuit into a low-level circuit that can be executed on a specific quantum device or simulator. \n",
    "\n",
    "The transpile function in Qiskit takes a quantum circuit and a backend (simulator or real quantum hardware) as arguments and returns an equivalent circuit that is compatible with the specified backend. \n",
    "\n",
    "Transpiling can involve gate decomposition, optimization, and mapping qubits to a specific hardware topology."
   ]
  },
  {
   "cell_type": "code",
   "execution_count": 19,
   "id": "a0270598-f789-4396-8625-73c772fb0af3",
   "metadata": {
    "tags": []
   },
   "outputs": [
    {
     "name": "stdout",
     "output_type": "stream",
     "text": [
      "     ┌───┐     \n",
      "q_0: ┤ H ├──■──\n",
      "     └───┘┌─┴─┐\n",
      "q_1: ─────┤ X ├\n",
      "          └───┘\n"
     ]
    }
   ],
   "source": [
    "from qiskit import QuantumCircuit, transpile\n",
    "from qiskit_aer import Aer\n",
    "\n",
    "# Create a simple quantum circuit\n",
    "qc = QuantumCircuit(2)\n",
    "qc.h(0)\n",
    "qc.cx(0, 1)\n",
    "\n",
    "# Transpile the circuit for a specific backend\n",
    "simulator = Aer.get_backend('qasm_simulator')\n",
    "transpiled_circuit = transpile(qc, simulator)\n",
    "\n",
    "# Print the transpiled circuit\n",
    "print(transpiled_circuit)\n"
   ]
  },
  {
   "cell_type": "markdown",
   "id": "da46248e-638e-4367-8714-d689e79eb4bd",
   "metadata": {},
   "source": [
    "get_backend(): The get_backend() function is used to retrieve a specific backend (simulator or real quantum hardware) from a provider. \n",
    "\n",
    "In the context of Aer, it is used to obtain a specific simulator for running quantum circuits. \n",
    "\n",
    "Common Aer backends include qasm_simulator, statevector_simulator, and unitary_simulator"
   ]
  },
  {
   "cell_type": "code",
   "execution_count": 20,
   "id": "3fa1f317-eb55-4e1f-b1e1-c6c617a0f4ae",
   "metadata": {
    "tags": []
   },
   "outputs": [],
   "source": [
    "\n",
    "from qiskit_aer import Aer\n",
    "# Get the qasm_simulator backend\n",
    "qasm_simulator = Aer.get_backend('qasm_simulator')\n"
   ]
  },
  {
   "cell_type": "markdown",
   "id": "d3717d8a-346b-4d8a-9bcf-a66a3a5c3a4d",
   "metadata": {},
   "source": [
    "run(): The run() method is used to execute a transpiled quantum circuit on a specific backend. \n",
    "\n",
    "It takes the transpiled circuit and additional run options as arguments, \n",
    "such as the number of shots (repetitions) and whether to store the individual measurement results in memory. \n",
    "\n",
    "The run() method returns a job object, \n",
    "which can be used to obtain the results of the execution once it is complete."
   ]
  },
  {
   "cell_type": "code",
   "execution_count": 21,
   "id": "71b79056-8d41-4dd9-afdb-c011a87d7b25",
   "metadata": {
    "tags": []
   },
   "outputs": [],
   "source": [
    "from qiskit import QuantumCircuit, transpile\n",
    "from qiskit_aer import Aer\n",
    "\n",
    "# Create a simple quantum circuit\n",
    "qc = QuantumCircuit(2, 2)\n",
    "qc.h(0)\n",
    "qc.cx(0, 1)\n",
    "qc.measure([0, 1], [0, 1])\n",
    "\n",
    "# Transpile and run the circuit on the qasm_simulator backend\n",
    "qasm_simulator = Aer.get_backend('qasm_simulator')\n",
    "\n",
    "transpiled_circuit = transpile(qc, simulator)\n",
    "run_options = {\"shots\": 1024, \"memory\": True}\n",
    "job = simulator.run(transpiled_circuit, **run_options)\n"
   ]
  },
  {
   "cell_type": "code",
   "execution_count": 22,
   "id": "675d4fa7-66fd-49f0-82e9-72af1a835ec4",
   "metadata": {
    "tags": []
   },
   "outputs": [],
   "source": [
    "result = job.result()"
   ]
  },
  {
   "cell_type": "markdown",
   "id": "1df2de0f-7356-428d-91af-152d7ce7ce1f",
   "metadata": {},
   "source": [
    "result object contains the data from the execution of the quantum circuits. \n",
    "\n",
    "It is an instance of the Result class, which provides various methods to access and analyze this data.\n",
    "\n",
    "At this point, the result object contains the data from the execution of the quantum circuits. \n",
    "\n",
    "It is an instance of the Result class, which provides various methods to access and analyze this data.\n",
    "\n",
    "One of the methods provided by the Result class is get_counts(). \n",
    "\n",
    "This method retrieves the counts of the output states, which represent the number of times each state \n",
    "occurred during the execution. \n",
    "\n",
    "For example, if you executed a circuit 1000 times (shots) and got the state '0' 400 times and the state \n",
    "'1' 600 times, the counts would be represented as {'0': 400, '1': 600}."
   ]
  },
  {
   "cell_type": "code",
   "execution_count": 23,
   "id": "8ebacc4b-2520-40bf-b93e-c54ed75ac24c",
   "metadata": {
    "tags": []
   },
   "outputs": [
    {
     "data": {
      "text/plain": [
       "{'00': 505, '11': 519}"
      ]
     },
     "execution_count": 23,
     "metadata": {},
     "output_type": "execute_result"
    }
   ],
   "source": [
    "counts = result.get_counts()\n",
    "counts"
   ]
  },
  {
   "cell_type": "markdown",
   "id": "c1262f6e-591b-4dad-867f-d9e1c83dc7fb",
   "metadata": {},
   "source": [
    "get_statevector()\n",
    "\n",
    "\n",
    "get_statevector()  is used to obtain the statevector of a quantum circuit. \n",
    "\n",
    "The statevector represents the probability amplitudes of all possible states of the qubits in the circuit. \n",
    "\n",
    "The probability of measuring a specific state is given by the square of the amplitude corresponding to that state."
   ]
  }
 ],
 "metadata": {
  "kernelspec": {
   "display_name": "Qiskit v1.0.2 (ipykernel)",
   "language": "python",
   "name": "python3"
  },
  "language_info": {
   "codemirror_mode": {
    "name": "ipython",
    "version": 3
   },
   "file_extension": ".py",
   "mimetype": "text/x-python",
   "name": "python",
   "nbconvert_exporter": "python",
   "pygments_lexer": "ipython3",
   "version": "3.10.8"
  },
  "widgets": {
   "application/vnd.jupyter.widget-state+json": {
    "state": {},
    "version_major": 2,
    "version_minor": 0
   }
  }
 },
 "nbformat": 4,
 "nbformat_minor": 5
}
